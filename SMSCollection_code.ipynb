{
 "cells": [
  {
   "cell_type": "code",
   "execution_count": 1,
   "metadata": {},
   "outputs": [],
   "source": [
    "import re\n",
    "import math\n",
    "import random\n",
    "import numpy as np\n",
    "import pandas as pd\n",
    "import matplotlib.pyplot as plt\n",
    "%matplotlib inline\n",
    "from nltk.stem import SnowballStemmer\n",
    "import string\n",
    "from nltk.tokenize import word_tokenize\n",
    "from nltk.corpus import stopwords\n",
    "from sklearn.feature_extraction.text import TfidfVectorizer\n",
    "from sklearn.feature_extraction.text import CountVectorizer\n",
    "from sklearn.metrics import accuracy_score, confusion_matrix\n",
    "random.seed(10)\n",
    "from sklearn.model_selection import train_test_split\n",
    "import warnings\n",
    "warnings.simplefilter(action='ignore', category=FutureWarning)\n",
    "warnings.filterwarnings('ignore')"
   ]
  },
  {
   "cell_type": "code",
   "execution_count": 2,
   "metadata": {},
   "outputs": [],
   "source": [
    "\n",
    "df = pd.read_table('C:\\\\Users\\\\Keerthi\\\\Desktop\\\\Jigsaw\\\\FIVERR\\\\SMSSpamCollection', sep=\"\\t\", names=['label', 'SMS'])"
   ]
  },
  {
   "cell_type": "code",
   "execution_count": 6,
   "metadata": {},
   "outputs": [
    {
     "data": {
      "text/html": [
       "<div>\n",
       "<style scoped>\n",
       "    .dataframe tbody tr th:only-of-type {\n",
       "        vertical-align: middle;\n",
       "    }\n",
       "\n",
       "    .dataframe tbody tr th {\n",
       "        vertical-align: top;\n",
       "    }\n",
       "\n",
       "    .dataframe thead th {\n",
       "        text-align: right;\n",
       "    }\n",
       "</style>\n",
       "<table border=\"1\" class=\"dataframe\">\n",
       "  <thead>\n",
       "    <tr style=\"text-align: right;\">\n",
       "      <th></th>\n",
       "      <th>label</th>\n",
       "      <th>SMS</th>\n",
       "    </tr>\n",
       "  </thead>\n",
       "  <tbody>\n",
       "    <tr>\n",
       "      <th>0</th>\n",
       "      <td>ham</td>\n",
       "      <td>Go until jurong point, crazy.. Available only ...</td>\n",
       "    </tr>\n",
       "    <tr>\n",
       "      <th>1</th>\n",
       "      <td>ham</td>\n",
       "      <td>Ok lar... Joking wif u oni...</td>\n",
       "    </tr>\n",
       "    <tr>\n",
       "      <th>2</th>\n",
       "      <td>spam</td>\n",
       "      <td>Free entry in 2 a wkly comp to win FA Cup fina...</td>\n",
       "    </tr>\n",
       "    <tr>\n",
       "      <th>3</th>\n",
       "      <td>ham</td>\n",
       "      <td>U dun say so early hor... U c already then say...</td>\n",
       "    </tr>\n",
       "    <tr>\n",
       "      <th>4</th>\n",
       "      <td>ham</td>\n",
       "      <td>Nah I don't think he goes to usf, he lives aro...</td>\n",
       "    </tr>\n",
       "  </tbody>\n",
       "</table>\n",
       "</div>"
      ],
      "text/plain": [
       "  label                                                SMS\n",
       "0   ham  Go until jurong point, crazy.. Available only ...\n",
       "1   ham                      Ok lar... Joking wif u oni...\n",
       "2  spam  Free entry in 2 a wkly comp to win FA Cup fina...\n",
       "3   ham  U dun say so early hor... U c already then say...\n",
       "4   ham  Nah I don't think he goes to usf, he lives aro..."
      ]
     },
     "execution_count": 6,
     "metadata": {},
     "output_type": "execute_result"
    }
   ],
   "source": [
    "df.head()"
   ]
  },
  {
   "cell_type": "code",
   "execution_count": 3,
   "metadata": {},
   "outputs": [],
   "source": [
    "spam_sms = df[df[\"label\"] == \"spam\"][\"SMS\"]\n",
    "ham_sms = df[df[\"label\"] == \"ham\"][\"SMS\"]\n",
    "\n",
    "spam_words = []\n",
    "ham_words = []\n",
    "\n",
    "def SpamWords(spamwords):\n",
    "    global spam_words\n",
    "    words = [word.lower() for word in word_tokenize(spamwords) if word.lower() not in stopwords.words(\"english\") ]\n",
    "    spam_words = spam_words + words\n",
    "    \n",
    "def HamWords(hamwords):\n",
    "    global ham_words\n",
    "    words = [word.lower() for word in word_tokenize(hamwords) if word.lower() not in stopwords.words(\"english\") ]\n",
    "    ham_words = ham_words + words\n",
    "\n",
    "spam_word=spam_sms.apply(SpamWords)\n",
    "ham_word=ham_sms.apply(HamWords)"
   ]
  },
  {
   "cell_type": "code",
   "execution_count": 7,
   "metadata": {},
   "outputs": [
    {
     "data": {
      "image/png": "[encoded data removed]",
      "text/plain": [
       "<Figure size 432x432 with 1 Axes>"
      ]
     },
     "metadata": {},
     "output_type": "display_data"
    }
   ],
   "source": [
    "df[\"label\"].value_counts().plot(kind = 'pie', explode = [0, 0.1], figsize = (6, 6), autopct = '%1.1f%%', shadow = True)\n",
    "plt.ylabel(\"Spam vs Ham\")\n",
    "plt.legend([\"Ham\", \"Spam\"])\n",
    "plt.show()"
   ]
  },
  {
   "cell_type": "code",
   "execution_count": 5,
   "metadata": {},
   "outputs": [
    {
     "data": {
      "image/png": "[encoded data removed]",
      "text/plain": [
       "<Figure size 432x288 with 1 Axes>"
      ]
     },
     "metadata": {
      "needs_background": "light"
     },
     "output_type": "display_data"
    }
   ],
   "source": [
    "df[\"label\"].value_counts().plot(kind = 'bar')\n",
    "\n",
    "plt.show()"
   ]
  },
  {
   "cell_type": "code",
   "execution_count": 6,
   "metadata": {},
   "outputs": [],
   "source": [
    "df['label']=df['label'].map(lambda x: 1 if x=='spam' else 0)"
   ]
  },
  {
   "cell_type": "code",
   "execution_count": 7,
   "metadata": {},
   "outputs": [],
   "source": [
    "#data cleaning\n",
    "stemmer = SnowballStemmer(\"english\")\n",
    "def cleaning(sms):  \n",
    "    sms = sms.translate(str.maketrans('', '', string.punctuation))\n",
    "    sms_clean = [stemmer.stem(text) for text in sms.split() if text.lower() not in stopwords.words(\"english\")]\n",
    "    return \" \".join(sms_clean)\n"
   ]
  },
  {
   "cell_type": "code",
   "execution_count": 8,
   "metadata": {},
   "outputs": [],
   "source": [
    "df['Cleaned_SMS'] = df.SMS.apply(cleaning).str.strip().str.split('[\\W_]+')"
   ]
  },
  {
   "cell_type": "code",
   "execution_count": 9,
   "metadata": {},
   "outputs": [],
   "source": [
    "def convert_toList(lines):\n",
    "    dataset = list(lines)\n",
    "    for i in range(1,len(dataset)):\n",
    "        dataset[i] = [(x) for x in dataset[i]]\n",
    "    return dataset"
   ]
  },
  {
   "cell_type": "code",
   "execution_count": 10,
   "metadata": {
    "scrolled": false
   },
   "outputs": [],
   "source": [
    "Data=convert_toList(df['Cleaned_SMS'])"
   ]
  },
  {
   "cell_type": "code",
   "execution_count": 11,
   "metadata": {},
   "outputs": [],
   "source": [
    " def calc_TF(data):\n",
    "    #Counts the freq of the word  in message\n",
    "    TFDict = {}\n",
    "    for word in data:\n",
    "        if word in TFDict:\n",
    "            TFDict[word] += 1\n",
    "        else:\n",
    "            TFDict[word] = 1\n",
    "    for word in TFDict:\n",
    "        TFDict[word] = TFDict[word] / len(data)\n",
    "    return TFDict\n",
    "#Computes tf for each word\n",
    "tfDict=[]\n",
    "for i in range(0,len(Data)):\n",
    "    TF=(calc_TF(Data[i]))\n",
    "    tfDict.append(TF)"
   ]
  },
  {
   "cell_type": "code",
   "execution_count": 12,
   "metadata": {},
   "outputs": [],
   "source": [
    "def calc_count(tfDict): \n",
    "    countDict = {}\n",
    "    for data in tfDict:\n",
    "        for word in data:\n",
    "            if word in countDict:\n",
    "                countDict[word] += 1\n",
    "            else:\n",
    "                countDict[word] = 1\n",
    "    return countDict\n",
    "\n",
    "  #calculate the count of words in message\n",
    "countDict = calc_count(tfDict)"
   ]
  },
  {
   "cell_type": "code",
   "execution_count": 13,
   "metadata": {},
   "outputs": [],
   "source": [
    "def calc_IDF(countDict):\n",
    "    idfDict = {}\n",
    "    for word in countDict:\n",
    "        idfDict[word] = math.log(len(Data) / countDict[word])\n",
    "    return idfDict\n",
    "  #calculate the idf for word\n",
    "idfDict = calc_IDF(countDict)"
   ]
  },
  {
   "cell_type": "code",
   "execution_count": 14,
   "metadata": {},
   "outputs": [],
   "source": [
    "def calc_TFIDF(reviewTFDict):\n",
    "    reviewTFIDFDict = {}\n",
    "    #For each word we multiply its tf and its idf.\n",
    "    for word in reviewTFDict:\n",
    "        reviewTFIDFDict[word] = reviewTFDict[word] * idfDict[word]\n",
    "    return reviewTFIDFDict\n",
    "tfidfDict = [calc_TFIDF(data) for data in tfDict]"
   ]
  },
  {
   "cell_type": "code",
   "execution_count": 15,
   "metadata": {},
   "outputs": [],
   "source": [
    "wordDict = sorted(countDict.keys())\n",
    "\n",
    "def TFIDFVector(review):\n",
    "    tfidfVector = [0.0] * len(wordDict)\n",
    "    for i, word in enumerate(wordDict):\n",
    "          if word in review:\n",
    "            tfidfVector[i] = review[word]\n",
    "    return tfidfVector\n",
    "\n",
    "tfidfVector = [TFIDFVector(data) for data in tfidfDict]"
   ]
  },
  {
   "cell_type": "code",
   "execution_count": 16,
   "metadata": {},
   "outputs": [],
   "source": [
    "X=pd.DataFrame(tfidfVector).as_matrix()\n",
    "y=df['label']"
   ]
  },
  {
   "cell_type": "code",
   "execution_count": 17,
   "metadata": {},
   "outputs": [],
   "source": [
    "X_train, X_test, y_train, y_test = train_test_split(X, y.astype(int), test_size=.20,random_state=201)"
   ]
  },
  {
   "cell_type": "code",
   "execution_count": 18,
   "metadata": {},
   "outputs": [],
   "source": [
    "y_train=y_train.to_numpy()\n",
    "y_test=y_test.to_numpy()"
   ]
  },
  {
   "cell_type": "code",
   "execution_count": 19,
   "metadata": {},
   "outputs": [],
   "source": [
    "class NaiveBayes(object):\n",
    "    def __init__(self, alpha=1.0):\n",
    "        self.alpha = alpha\n",
    "\n",
    "    def fit(self, X, y,alpha):\n",
    "        self.alpha =alpha\n",
    "        length = X.shape[0]\n",
    "        category = [[x for x, t in zip(X, y) if t == c] for c in np.unique(y)]\n",
    "        self.category_log_calc = [np.log(len(i) / length) for i in category]\n",
    "        total = np.array([np.array(i).sum(axis=0) for i in category]) + self.alpha\n",
    "        self.calc_log_prob = np.log(total / total.sum(axis=1)[np.newaxis].T)\n",
    "        return self\n",
    "\n",
    "    def predict_log_proba(self, X):\n",
    "        return [(self.calc_log_prob * x).sum(axis=1) + self.category_log_calc for x in X]\n",
    "\n",
    "    def predict(self, X):\n",
    "        return np.argmax(self.predict_log_proba(X), axis=1)\n",
    "  "
   ]
  },
  {
   "cell_type": "code",
   "execution_count": 20,
   "metadata": {},
   "outputs": [],
   "source": [
    "nb = NaiveBayes().fit(X_train, y_train,alpha=1.0)\n"
   ]
  },
  {
   "cell_type": "code",
   "execution_count": 21,
   "metadata": {},
   "outputs": [],
   "source": [
    "y_predict_prob_train=(nb.predict_log_proba(X_train))\n",
    "y_predict_train=(nb.predict(X_train))\n"
   ]
  },
  {
   "cell_type": "code",
   "execution_count": 22,
   "metadata": {},
   "outputs": [],
   "source": [
    "y_predict_prob=(nb.predict_log_proba(X_test))\n",
    "y_predict=(nb.predict(X_test))"
   ]
  },
  {
   "cell_type": "code",
   "execution_count": 23,
   "metadata": {},
   "outputs": [],
   "source": [
    "def getAccuracy(actual, predict):\n",
    "    correct = 0\n",
    "    for i in range(len(actual)):\n",
    "        if actual[i] == predict[i]:\n",
    "            correct += 1\n",
    "    return (correct/float(len(actual))) "
   ]
  },
  {
   "cell_type": "code",
   "execution_count": 24,
   "metadata": {},
   "outputs": [
    {
     "name": "stdout",
     "output_type": "stream",
     "text": [
      "Accuracy of Training data: 0.9766659187794481\n",
      "Accuracy of Testing data: 0.9542600896860987\n"
     ]
    }
   ],
   "source": [
    "print('Accuracy of Training data:', getAccuracy(y_train,y_predict_train))\n",
    "print('Accuracy of Testing data:', getAccuracy(y_test,y_predict))"
   ]
  },
  {
   "cell_type": "code",
   "execution_count": 25,
   "metadata": {},
   "outputs": [],
   "source": [
    "def calc_confusion_mat(pred_arr, input_arr):\n",
    "    conf_arr = [[0, 0], [0, 0]]\n",
    "    for i in range(len(pred_arr)):\n",
    "        if int(input_arr[i]) == 0:\n",
    "            if float(pred_arr[i]) == 1:\n",
    "                    conf_arr[0][1] = conf_arr[0][1] + 1\n",
    "            else:\n",
    "                    conf_arr[0][0] = conf_arr[0][0] + 1\n",
    "        elif int(input_arr[i]) == 1:\n",
    "            if float(pred_arr[i]) ==0:\n",
    "                    conf_arr[1][0] = conf_arr[1][0] +1\n",
    "            else:\n",
    "                    conf_arr[1][1] = conf_arr[1][1] +1\n",
    "    return np.array(conf_arr)\n",
    "\n"
   ]
  },
  {
   "cell_type": "code",
   "execution_count": 26,
   "metadata": {},
   "outputs": [],
   "source": [
    "confusion_matrix=calc_confusion_mat(y_test, y_predict)\n"
   ]
  },
  {
   "cell_type": "code",
   "execution_count": 27,
   "metadata": {},
   "outputs": [
    {
     "data": {
      "text/html": [
       "<div>\n",
       "<style scoped>\n",
       "    .dataframe tbody tr th:only-of-type {\n",
       "        vertical-align: middle;\n",
       "    }\n",
       "\n",
       "    .dataframe tbody tr th {\n",
       "        vertical-align: top;\n",
       "    }\n",
       "\n",
       "    .dataframe thead th {\n",
       "        text-align: right;\n",
       "    }\n",
       "</style>\n",
       "<table border=\"1\" class=\"dataframe\">\n",
       "  <thead>\n",
       "    <tr style=\"text-align: right;\">\n",
       "      <th></th>\n",
       "      <th>Predicted \"not SPAM\"</th>\n",
       "      <th>Predicted \"SPAM\"</th>\n",
       "    </tr>\n",
       "  </thead>\n",
       "  <tbody>\n",
       "    <tr>\n",
       "      <th>Actually\"not SPAM\"</th>\n",
       "      <td>971</td>\n",
       "      <td>51</td>\n",
       "    </tr>\n",
       "    <tr>\n",
       "      <th>Actually \"SPAM\"</th>\n",
       "      <td>0</td>\n",
       "      <td>93</td>\n",
       "    </tr>\n",
       "  </tbody>\n",
       "</table>\n",
       "</div>"
      ],
      "text/plain": [
       "                    Predicted \"not SPAM\"  Predicted \"SPAM\"\n",
       "Actually\"not SPAM\"                   971                51\n",
       "Actually \"SPAM\"                        0                93"
      ]
     },
     "execution_count": 27,
     "metadata": {},
     "output_type": "execute_result"
    }
   ],
   "source": [
    "confusion_mat = pd.DataFrame(confusion_matrix, index=['Actually\"not SPAM\"','Actually \"SPAM\"'], columns=['Predicted \"not SPAM\"','Predicted \"SPAM\"'])\n",
    "\n",
    "confusion_mat"
   ]
  },
  {
   "cell_type": "code",
   "execution_count": 28,
   "metadata": {},
   "outputs": [],
   "source": [
    "def precision(label, confusion_matrix):\n",
    "    col = confusion_matrix[:, label]\n",
    "    return confusion_matrix[label, label] / col.sum()\n",
    "    \n",
    "def recall(label, confusion_matrix):\n",
    "    row = confusion_matrix[label, :]\n",
    "    return confusion_matrix[label, label] / row.sum()\n",
    "\n",
    "def f_score (precision,recall):\n",
    "    return 2*precision*recall / (precision + recall)\n",
    "\n",
    "def accuracy(confusion_matrix):\n",
    "    diagonal_sum = confusion_matrix.trace()\n",
    "    sum_of_all_elements = confusion_matrix.sum()\n",
    "    return diagonal_sum / sum_of_all_elements "
   ]
  },
  {
   "cell_type": "code",
   "execution_count": 29,
   "metadata": {},
   "outputs": [
    {
     "name": "stdout",
     "output_type": "stream",
     "text": [
      "precision: 0.6458333333333334\n",
      "recall : 1.0\n",
      "F-Score --> 0.7848101265822784\n",
      "Accuracy--> 0.9542600896860987\n"
     ]
    }
   ],
   "source": [
    "label=1\n",
    "print(\"precision:\" ,precision(label,confusion_matrix))\n",
    "print(\"recall :\", recall(label,confusion_matrix))\n",
    "print('F-Score -->',f_score(precision(label,confusion_matrix),recall(label,confusion_matrix)))\n",
    "print('Accuracy-->',accuracy(confusion_matrix))"
   ]
  },
  {
   "cell_type": "markdown",
   "metadata": {},
   "source": [
    "#### Evaluating the performance of classifier for different values of alpha"
   ]
  },
  {
   "cell_type": "code",
   "execution_count": 30,
   "metadata": {},
   "outputs": [],
   "source": [
    "def func_graph(acc,alpha,f1,title):\n",
    "    fig = plt.figure()\n",
    "    fig.suptitle(title)\n",
    "    plt.xlabel('i')\n",
    "    plt.ylabel('Performance Measure')\n",
    "    plt.plot(alpha,acc, '-.', color=\"orange\", label=\"Accuracy\")\n",
    "    plt.plot(alpha,f1, '-.', color=\"green\", label=\"F Score\")\n",
    "    plt.legend(loc='lower left')"
   ]
  },
  {
   "cell_type": "code",
   "execution_count": 31,
   "metadata": {},
   "outputs": [
    {
     "data": {
      "image/png": "[encoded data removed]",
      "text/plain": [
       "<Figure size 432x288 with 1 Axes>"
      ]
     },
     "metadata": {
      "needs_background": "light"
     },
     "output_type": "display_data"
    },
    {
     "data": {
      "image/png": "[encoded data removed]",
      "text/plain": [
       "<Figure size 432x288 with 1 Axes>"
      ]
     },
     "metadata": {
      "needs_background": "light"
     },
     "output_type": "display_data"
    }
   ],
   "source": [
    "test_acc=[]\n",
    "train_acc=[]\n",
    "f1_score_train=[]\n",
    "f1_score_test=[]\n",
    "i_value=[]\n",
    "for x in range(-5,1,1):\n",
    "    i_value.append(x)\n",
    "    var_alpha=pow(2,x)\n",
    "    nb_1 = NaiveBayes().fit(X_train, y_train,alpha=var_alpha)\n",
    "    y_predict_train=(nb_1.predict(X_train))\n",
    "    y_predict=(nb_1.predict(X_test))\n",
    "\n",
    "    confusion_matrix_train=calc_confusion_mat(y_train, y_predict_train)\n",
    "    confusion_matrix_test=calc_confusion_mat(y_test, y_predict)\n",
    "    train_acc.append( getAccuracy(y_train,y_predict_train))\n",
    "    test_acc.append( getAccuracy(y_test,y_predict))\n",
    "    label=1\n",
    "    f1_score_train.append(f_score(precision(label,confusion_matrix_train),recall(label,confusion_matrix_train)))\n",
    "    f1_score_test.append(f_score(precision(label,confusion_matrix_test),recall(label,confusion_matrix_test)))\n",
    "func_graph(train_acc,i_value,f1_score_train,'Training data ')  \n",
    "func_graph(test_acc,i_value,f1_score_test,'Testing data ') \n"
   ]
  },
  {
   "cell_type": "code",
   "execution_count": null,
   "metadata": {},
   "outputs": [],
   "source": [
    "\n",
    "\n"
   ]
  },
  {
   "cell_type": "code",
   "execution_count": null,
   "metadata": {},
   "outputs": [],
   "source": []
  },
  {
   "cell_type": "code",
   "execution_count": null,
   "metadata": {},
   "outputs": [],
   "source": []
  }
 ],
 "metadata": {
  "kernelspec": {
   "display_name": "Python 3",
   "language": "python",
   "name": "python3"
  },
  "language_info": {
   "codemirror_mode": {
    "name": "ipython",
    "version": 3
   },
   "file_extension": ".py",
   "mimetype": "text/x-python",
   "name": "python",
   "nbconvert_exporter": "python",
   "pygments_lexer": "ipython3",
   "version": "3.7.0"
  }
 },
 "nbformat": 4,
 "nbformat_minor": 2
}
